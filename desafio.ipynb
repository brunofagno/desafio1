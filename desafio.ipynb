{
  "nbformat": 4,
  "nbformat_minor": 0,
  "metadata": {
    "colab": {
      "name": "desafio.ipynb",
      "provenance": [],
      "collapsed_sections": []
    },
    "kernelspec": {
      "name": "python3",
      "display_name": "Python 3"
    },
    "language_info": {
      "name": "python"
    }
  },
  "cells": [
    {
      "cell_type": "code",
      "execution_count": null,
      "metadata": {
        "id": "OxkOXq1weGbq"
      },
      "outputs": [],
      "source": [
        "influenza = open('sequence1.fasta').read()\n",
        "influenza = influenza[104:]\n",
        "#print(influenza)\n",
        "\n",
        "covid = open('sequence2.fasta').read()\n",
        "covid = covid[97:]\n",
        "#print(covid)"
      ]
    },
    {
      "cell_type": "code",
      "source": [
        "influenza = influenza.replace(\"\\n\",\"\")\n",
        "pares = []\n",
        "for i in range(len(influenza)-1):\n",
        "  pares.append(influenza[i]+influenza[i+1])\n",
        "\n",
        "covid = covid.replace(\"\\n\",\"\")\n",
        "paresc = []\n",
        "for i in range(len(covid)-1):\n",
        "  paresc.append(covid[i]+covid[i+1])"
      ],
      "metadata": {
        "id": "RYPG70sSecCa"
      },
      "execution_count": null,
      "outputs": []
    },
    {
      "cell_type": "code",
      "source": [
        "print(pares)\n",
        "print(paresc)"
      ],
      "metadata": {
        "id": "uGQpHP5tej-g"
      },
      "execution_count": null,
      "outputs": []
    },
    {
      "cell_type": "code",
      "source": [
        "AT= pares.count('AT')\n",
        "AC= pares.count('AC')\n",
        "AG= pares.count('AG')\n",
        "AA= pares.count('AA')\n",
        "TA= pares.count('TA')\n",
        "TT= pares.count('TT')\n",
        "TC= pares.count('TC')\n",
        "TG= pares.count('TG')\n",
        "CA= pares.count('CA')\n",
        "CT= pares.count('CT')\n",
        "CC= pares.count('CC')\n",
        "CG= pares.count('CG')\n",
        "GA= pares.count('GA')\n",
        "GT= pares.count('GT')\n",
        "GC= pares.count('GC')\n",
        "GG= pares.count('GG')"
      ],
      "metadata": {
        "id": "wxBdTg1jgCEK"
      },
      "execution_count": null,
      "outputs": []
    },
    {
      "cell_type": "code",
      "source": [
        "ATc= paresc.count('AT')\n",
        "ACc= paresc.count('AC')\n",
        "AGc= paresc.count('AG')\n",
        "AAc= paresc.count('AA')\n",
        "TAc= paresc.count('TA')\n",
        "TTc= paresc.count('TT')\n",
        "TCc= paresc.count('TC')\n",
        "TGc= paresc.count('TG')\n",
        "CAc= paresc.count('CA')\n",
        "CTc= paresc.count('CT')\n",
        "CCc= paresc.count('CC')\n",
        "CGc= paresc.count('CG')\n",
        "GAc= paresc.count('GA')\n",
        "GTc= paresc.count('GT')\n",
        "GCc= paresc.count('GC')\n",
        "GGc= paresc.count('GG')"
      ],
      "metadata": {
        "id": "eNHDOmOU5xTl"
      },
      "execution_count": null,
      "outputs": []
    },
    {
      "cell_type": "code",
      "source": [
        "import numpy as np\n",
        "matriz = np.array([AA,AT,AC,AG,TA,TT,TC,TG,CA,CT,CC,CG,GA,GT,GC,GG])\n",
        "print(matriz)\n",
        "\n",
        "matrizc = np.array([AAc,ATc,ACc,AGc,TAc,TTc,TCc,TGc,CAc,CTc,CCc,CGc,GAc,GTc,GCc,GGc])\n",
        "print(matrizc)"
      ],
      "metadata": {
        "colab": {
          "base_uri": "https://localhost:8080/"
        },
        "id": "FGNGU-612gsS",
        "outputId": "f01f2d54-761a-4907-aed8-e8b0c4a430bb"
      },
      "execution_count": null,
      "outputs": [
        {
          "output_type": "stream",
          "name": "stdout",
          "text": [
            "[174 118  75 144  49  71  82 117 128  68  69  37 160  62  77 109]\n",
            "[2880 2308 2023 1742 2377 3215 1413 2589 2084 2081  888  439 1612 1990\n",
            " 1168 1093]\n"
          ]
        }
      ]
    },
    {
      "cell_type": "code",
      "source": [
        "matriz1 = matriz.reshape(4,4)\n",
        "print(matriz1)\n",
        "\n",
        "matriz1c = matrizc.reshape(4,4)\n",
        "print(matriz1c)"
      ],
      "metadata": {
        "colab": {
          "base_uri": "https://localhost:8080/"
        },
        "id": "YDHGXvjz2s9P",
        "outputId": "3456def8-9343-4aa4-cd99-e3db03fdbb71"
      },
      "execution_count": null,
      "outputs": [
        {
          "output_type": "stream",
          "name": "stdout",
          "text": [
            "[[174 118  75 144]\n",
            " [ 49  71  82 117]\n",
            " [128  68  69  37]\n",
            " [160  62  77 109]]\n",
            "[[2880 2308 2023 1742]\n",
            " [2377 3215 1413 2589]\n",
            " [2084 2081  888  439]\n",
            " [1612 1990 1168 1093]]\n"
          ]
        }
      ]
    },
    {
      "cell_type": "code",
      "source": [
        "from matplotlib import pyplot as plt\n",
        "\n",
        "plt.imshow(matriz1, cmap = 'Blues', origin=\"lower\")\n",
        "plt.xlabel('Índice da linha'); plt.ylabel('Índice da coluna')\n",
        "plt.xticks((0,1,2,3),['A','T','C','G'])\n",
        "plt.yticks([3, 2, 1, 0],['G','C','T','A'])\n",
        "plt.title(\"Influenza A\")\n",
        "_ = plt.colorbar()"
      ],
      "metadata": {
        "colab": {
          "base_uri": "https://localhost:8080/",
          "height": 376
        },
        "id": "7Qy09BqgFu5v",
        "outputId": "d1abda79-d0f2-4f4e-9e2f-b34e135d0fd1"
      },
      "execution_count": null,
      "outputs": [
        {
          "output_type": "display_data",
          "data": {
            "text/plain": [
              "<Figure size 576x396 with 2 Axes>"
            ],
            "image/png": "[encoded data removed]"
          },
          "metadata": {}
        }
      ]
    },
    {
      "cell_type": "code",
      "source": [
        "from matplotlib import pyplot as plt\n",
        "\n",
        "plt.imshow(matriz1c, cmap = 'Blues', origin=\"lower\")\n",
        "plt.xlabel('Índice da linha'); plt.ylabel('Índice da coluna')\n",
        "plt.xticks((0,1,2,3),['A','T','C','G'])\n",
        "plt.yticks([3, 2, 1, 0],['G','C','T','A'])\n",
        "plt.title(\"Covid-19\")\n",
        "_ = plt.colorbar()"
      ],
      "metadata": {
        "colab": {
          "base_uri": "https://localhost:8080/",
          "height": 376
        },
        "id": "BtuwXUEJGiCL",
        "outputId": "7ea0c558-00b0-4865-dbd7-370336558130"
      },
      "execution_count": null,
      "outputs": [
        {
          "output_type": "display_data",
          "data": {
            "text/plain": [
              "<Figure size 576x396 with 2 Axes>"
            ],
            "image/png": "[encoded data removed]"
          },
          "metadata": {}
        }
      ]
    }
  ]
}